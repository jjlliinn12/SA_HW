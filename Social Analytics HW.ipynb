{
 "cells": [
  {
   "cell_type": "code",
   "execution_count": 3,
   "metadata": {
    "collapsed": true
   },
   "outputs": [],
   "source": [
    "# Dependencies\n",
    "import tweepy\n",
    "from vaderSentiment.vaderSentiment import SentimentIntensityAnalyzer\n",
    "analyzer = SentimentIntensityAnalyzer()\n",
    "import json\n",
    "import pandas as pd\n",
    "import numpy as np\n",
    "from datetime import datetime\n",
    "import matplotlib.pyplot as plt\n",
    "\n",
    "# Twitter API Keys\n",
    "from config import (consumer_key, \n",
    "                    consumer_secret, \n",
    "                    access_token, \n",
    "                    access_token_secret)\n",
    "\n",
    "# Setup Tweepy API Authentication\n",
    "auth = tweepy.OAuthHandler(consumer_key, consumer_secret)\n",
    "auth.set_access_token(access_token, access_token_secret)\n",
    "api = tweepy.API(auth, parser=tweepy.parsers.JSONParser())"
   ]
  },
  {
   "cell_type": "code",
   "execution_count": 7,
   "metadata": {},
   "outputs": [],
   "source": [
    "# Target Search Term\n",
    "target_terms = (\"@BBCNews\", \"@CBSNews\", \"@CNN\",\n",
    "                \"@FoxNews\", \"@nytimes\")\n",
    "#Final DF for csv\n",
    "social_analytics_df = pd.DataFrame()\n",
    "\n",
    "# Loop through all target users\n",
    "for target in target_terms:\n",
    "\n",
    "    # Variables for holding sentiments\n",
    "    news_media = []\n",
    "    compound_list = []\n",
    "    positive_list = []\n",
    "    negative_list = []\n",
    "    neutral_list = []\n",
    "    date_created = []\n",
    "    tweets_ago = []\n",
    "    \n",
    "    # Run search around each tweet\n",
    "    public_tweets = api.user_timeline(target, count=100)\n",
    "    # Loop through all tweets\n",
    "    i = 0\n",
    "    for tweet in public_tweets:\n",
    "            \n",
    "        # Run Vader Analysis on each tweet\n",
    "        results = analyzer.polarity_scores(tweet[\"text\"])\n",
    "        tweet_text = tweet[\"text\"]\n",
    "        compound = results[\"compound\"]\n",
    "        pos = results[\"pos\"]\n",
    "        neu = results[\"neu\"]\n",
    "        neg = results[\"neg\"]\n",
    "        date_created.append(datetime.strptime(tweet[\"created_at\"], \"%a %b %d %H:%M:%S %z %Y\")) \n",
    "        # Add each value to the appropriate array\n",
    "        compound_list.append(compound)\n",
    "        positive_list.append(pos)\n",
    "        negative_list.append(neg)\n",
    "        neutral_list.append(neu)\n",
    "        news_media.append(tweet['user']['screen_name'])\n",
    "        tweets_ago.append(i)\n",
    "        i=i+1\n",
    "\n",
    "    #Dictionary\n",
    "    sentiment_df = pd.DataFrame({\n",
    "        \"News_Media\": target,\n",
    "        \"Compound\": compound_list,\n",
    "        \"Positive\": positive_list,\n",
    "        \"Negative\": negative_list,\n",
    "        \"Neutral\": neutral_list,\n",
    "        \"Date_created\": date_created,\n",
    "        \"Tweets_ago\": tweets_ago\n",
    "#         \"Tweet Count\": len(compound_list)\n",
    "    })\n",
    "    social_analytics_df = social_analytics_df.append(sentiment_df)\n",
    "    \n",
    "social_analytics_df.set_index('News_Media', 'Date_Created')\n",
    "social_analytics_df.to_csv(\"./news_tweets.csv\")"
   ]
  },
  {
   "cell_type": "code",
   "execution_count": 15,
   "metadata": {},
   "outputs": [],
   "source": [
    "#Create X-axis values\n",
    "tweets_ago = social_analytics_df.loc[social_analytics_df.News_Media=='@BBCNews']['Tweets_ago']\n",
    "tweet_compound = social_analytics_df.loc[social_analytics_df.News_Media=='@BBCNews']['Compound']"
   ]
  },
  {
   "cell_type": "code",
   "execution_count": null,
   "metadata": {
    "collapsed": true
   },
   "outputs": [],
   "source": []
  }
 ],
 "metadata": {
  "kernelspec": {
   "display_name": "Python 3",
   "language": "python",
   "name": "python3"
  },
  "language_info": {
   "codemirror_mode": {
    "name": "ipython",
    "version": 3
   },
   "file_extension": ".py",
   "mimetype": "text/x-python",
   "name": "python",
   "nbconvert_exporter": "python",
   "pygments_lexer": "ipython3",
   "version": "3.6.2"
  }
 },
 "nbformat": 4,
 "nbformat_minor": 2
}
